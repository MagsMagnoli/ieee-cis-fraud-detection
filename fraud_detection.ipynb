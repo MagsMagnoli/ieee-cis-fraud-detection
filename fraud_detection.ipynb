{
  "nbformat": 4,
  "nbformat_minor": 0,
  "metadata": {
    "colab": {
      "name": "kaggle-ieee-cis-fraud-detection.ipynb",
      "provenance": [],
      "collapsed_sections": [],
      "toc_visible": true,
      "machine_shape": "hm",
      "include_colab_link": true
    },
    "kernelspec": {
      "name": "python3",
      "display_name": "Python 3"
    },
    "accelerator": "GPU"
  },
  "cells": [
    {
      "cell_type": "markdown",
      "metadata": {
        "id": "view-in-github",
        "colab_type": "text"
      },
      "source": [
        "<a href=\"https://colab.research.google.com/github/MagsMagnoli/ieee-cis-fraud-detection/blob/master/fraud_detection.ipynb\" target=\"_parent\"><img src=\"https://colab.research.google.com/assets/colab-badge.svg\" alt=\"Open In Colab\"/></a>"
      ]
    },
    {
      "cell_type": "markdown",
      "metadata": {
        "id": "3ISm6fQHbbTu",
        "colab_type": "text"
      },
      "source": [
        "# Setup Kaggle"
      ]
    },
    {
      "cell_type": "code",
      "metadata": {
        "id": "fXWSwDAtMwpV",
        "colab_type": "code",
        "colab": {}
      },
      "source": [
        "# auth kaggle\n",
        "!mv kaggle.json /root/.kaggle/\n",
        "!chmod 600 /root/.kaggle/kaggle.json"
      ],
      "execution_count": 0,
      "outputs": []
    },
    {
      "cell_type": "code",
      "metadata": {
        "id": "1Il5XuIOJVQR",
        "colab_type": "code",
        "colab": {}
      },
      "source": [
        "# get kaggle datasets\n",
        "import os\n",
        "os.environ['KAGGLEUSERNAME'] = \"x\" # username from the json file \n",
        "os.environ['KAGGLEKEY'] = \"x\" # key from the json file\n",
        "!kaggle competitions download ieee-fraud-detection # api copied from kaggle"
      ],
      "execution_count": 0,
      "outputs": []
    },
    {
      "cell_type": "code",
      "metadata": {
        "id": "RLw-cgjieaNL",
        "colab_type": "code",
        "colab": {}
      },
      "source": [
        "# unzip data\n",
        "!unzip train_identity.csv.zip\n",
        "!unzip train_transaction.csv.zip\n",
        "!unzip test_identity.csv.zip\n",
        "!unzip test_transaction.csv.zip"
      ],
      "execution_count": 0,
      "outputs": []
    },
    {
      "cell_type": "markdown",
      "metadata": {
        "id": "bf56All7bifu",
        "colab_type": "text"
      },
      "source": [
        "# Setup Environment"
      ]
    },
    {
      "cell_type": "code",
      "metadata": {
        "id": "imfzqq2JN_eQ",
        "colab_type": "code",
        "colab": {}
      },
      "source": [
        "# general imports\n",
        "import numpy as np\n",
        "import pandas as pd\n",
        "import matplotlib.pyplot as plt\n",
        "import seaborn as sns\n",
        "import multiprocessing\n",
        "import warnings\n",
        "from sklearn.model_selection import train_test_split\n",
        "from sklearn.linear_model import LogisticRegression\n",
        "from sklearn.metrics import accuracy_score \n",
        "from sklearn.metrics import confusion_matrix\n",
        "from sklearn.utils.multiclass import unique_labels\n",
        "\n",
        "%matplotlib inline"
      ],
      "execution_count": 0,
      "outputs": []
    },
    {
      "cell_type": "code",
      "metadata": {
        "id": "IhOKV42Iawo3",
        "colab_type": "code",
        "colab": {}
      },
      "source": [
        "# reduce memory usage\n",
        "def reduce_mem_usage(df):\n",
        "    \"\"\" iterate through all the columns of a dataframe and modify the data type\n",
        "        to reduce memory usage.        \n",
        "    \"\"\"\n",
        "    start_mem = df.memory_usage().sum() / 1024**2\n",
        "    print('Memory usage of dataframe is {:.2f} MB'.format(start_mem))\n",
        "    \n",
        "    for col in df.columns:\n",
        "        col_type = df[col].dtype\n",
        "        \n",
        "        if col_type != object:\n",
        "            c_min = df[col].min()\n",
        "            c_max = df[col].max()\n",
        "            if str(col_type)[:3] == 'int':\n",
        "                if c_min > np.iinfo(np.int8).min and c_max < np.iinfo(np.int8).max:\n",
        "                    df[col] = df[col].astype(np.int8)\n",
        "                elif c_min > np.iinfo(np.int16).min and c_max < np.iinfo(np.int16).max:\n",
        "                    df[col] = df[col].astype(np.int16)\n",
        "                elif c_min > np.iinfo(np.int32).min and c_max < np.iinfo(np.int32).max:\n",
        "                    df[col] = df[col].astype(np.int32)\n",
        "                elif c_min > np.iinfo(np.int64).min and c_max < np.iinfo(np.int64).max:\n",
        "                    df[col] = df[col].astype(np.int64)  \n",
        "            else:\n",
        "                if c_min > np.finfo(np.float16).min and c_max < np.finfo(np.float16).max:\n",
        "                    df[col] = df[col].astype(np.float16)\n",
        "                elif c_min > np.finfo(np.float32).min and c_max < np.finfo(np.float32).max:\n",
        "                    df[col] = df[col].astype(np.float32)\n",
        "                else:\n",
        "                    df[col] = df[col].astype(np.float64)\n",
        "        else:\n",
        "            df[col] = df[col].astype('category')\n",
        "\n",
        "    end_mem = df.memory_usage().sum() / 1024**2\n",
        "    print('Memory usage after optimization is: {:.2f} MB'.format(end_mem))\n",
        "    print('Decreased by {:.1f}%'.format(100 * (start_mem - end_mem) / start_mem))\n",
        "    \n",
        "    return df"
      ],
      "execution_count": 0,
      "outputs": []
    },
    {
      "cell_type": "code",
      "metadata": {
        "id": "jrHooJChU2Yj",
        "colab_type": "code",
        "outputId": "b5a7583b-182a-4e9f-ce3f-fe1676f1b665",
        "colab": {
          "base_uri": "https://localhost:8080/",
          "height": 255
        }
      },
      "source": [
        "# load data\n",
        "%%time\n",
        "warnings.simplefilter('ignore')\n",
        "files = ['test_identity.csv', \n",
        "         'test_transaction.csv',\n",
        "         'train_identity.csv',\n",
        "         'train_transaction.csv']\n",
        "\n",
        "def load_data(file):\n",
        "    return reduce_mem_usage(pd.read_csv(file))\n",
        "\n",
        "with multiprocessing.Pool() as pool:\n",
        "    test_identity, test_transaction, train_identity, train_transaction = pool.map(load_data, files)"
      ],
      "execution_count": 0,
      "outputs": [
        {
          "output_type": "stream",
          "text": [
            "Memory usage of dataframe is 44.39 MB\n",
            "Memory usage of dataframe is 45.12 MB\n",
            "Memory usage after optimization is: 9.86 MB\n",
            "Decreased by 77.8%\n",
            "Memory usage after optimization is: 10.02 MB\n",
            "Decreased by 77.8%\n",
            "Memory usage of dataframe is 1519.24 MB\n",
            "Memory usage of dataframe is 1775.15 MB\n",
            "Memory usage after optimization is: 425.24 MB\n",
            "Decreased by 72.0%\n",
            "Memory usage after optimization is: 487.16 MB\n",
            "Decreased by 72.6%\n",
            "CPU times: user 709 ms, sys: 1.18 s, total: 1.88 s\n",
            "Wall time: 1min 55s\n"
          ],
          "name": "stdout"
        }
      ]
    },
    {
      "cell_type": "code",
      "metadata": {
        "id": "F_2LgMiqgN_0",
        "colab_type": "code",
        "outputId": "3b1053d1-b5e7-47a6-f0be-80f762362254",
        "colab": {
          "base_uri": "https://localhost:8080/",
          "height": 51
        }
      },
      "source": [
        "# merge dfs\n",
        "train = pd.merge(train_transaction, train_identity, on='TransactionID', how='left')\n",
        "test = pd.merge(test_transaction, test_identity, on='TransactionID', how='left')\n",
        "\n",
        "print(f'The training data contains {train.shape[0]} rows and {train.shape[1]} columns')\n",
        "print(f'The testing data contains {test.shape[0]} rows and {test.shape[1]} columns')"
      ],
      "execution_count": 0,
      "outputs": [
        {
          "output_type": "stream",
          "text": [
            "The training data contains 590540 rows and 434 columns\n",
            "The testing data contains 506691 rows and 433 columns\n"
          ],
          "name": "stdout"
        }
      ]
    },
    {
      "cell_type": "markdown",
      "metadata": {
        "id": "oSbVAhLObqbd",
        "colab_type": "text"
      },
      "source": [
        "# Visualize Data"
      ]
    },
    {
      "cell_type": "code",
      "metadata": {
        "id": "3W_rb5-ubsAB",
        "colab_type": "code",
        "outputId": "ee2242a9-b1c1-42fd-f87f-4b30ad809fd0",
        "colab": {
          "base_uri": "https://localhost:8080/",
          "height": 379
        }
      },
      "source": [
        "# fraud transactions distribution\n",
        "train_transaction['TransactionAmt'] = train_transaction['TransactionAmt'].astype(float)\n",
        "total = len(train_transaction)\n",
        "total_amt = train_transaction.groupby(['isFraud'])['TransactionAmt'].sum().sum()\n",
        "plt.figure(figsize=(12,5))\n",
        "\n",
        "plt.subplot(121)\n",
        "plot_tr = sns.countplot(x='isFraud', data=train_transaction)\n",
        "plot_tr.set_title(\"Fraud Transactions Distribution \\n 0: No Fraud | 1: Fraud\", fontsize=18)\n",
        "plot_tr.set_xlabel(\"Is fraud?\", fontsize=16)\n",
        "plot_tr.set_ylabel('Count', fontsize=16)\n",
        "for p in plot_tr.patches:\n",
        "    height = p.get_height()\n",
        "    plot_tr.text(p.get_x()+p.get_width()/2.,\n",
        "            height + 3,\n",
        "            '{:1.2f}%'.format(height/total*100),\n",
        "            ha=\"center\", fontsize=15) \n",
        "\n",
        "# % total amount in transaction amount    \n",
        "percent_amt = (train_transaction.groupby(['isFraud'])['TransactionAmt'].sum())\n",
        "percent_amt = percent_amt.reset_index()\n",
        "plt.subplot(122)\n",
        "plot_tr_2 = sns.barplot(x='isFraud', y='TransactionAmt',  dodge=True, data=percent_amt)\n",
        "plot_tr_2.set_title(\"% Total Amount in Transaction Amt \\n 0: No Fraud | 1: Fraud\", fontsize=18)\n",
        "plot_tr_2.set_xlabel(\"Is fraud?\", fontsize=16)\n",
        "plot_tr_2.set_ylabel('Total Transaction Amount Scalar', fontsize=16)\n",
        "for p in plot_tr_2.patches:\n",
        "    height = p.get_height()\n",
        "    plot_tr_2.text(p.get_x()+p.get_width()/2.,\n",
        "            height + 3,\n",
        "            '{:1.2f}%'.format(height/total_amt * 100),\n",
        "            ha=\"center\", fontsize=15)"
      ],
      "execution_count": 0,
      "outputs": [
        {
          "output_type": "display_data",
          "data": {
            "image/png": "[encoded data removed]",
            "text/plain": [
              "<Figure size 864x360 with 2 Axes>"
            ]
          },
          "metadata": {
            "tags": []
          }
        }
      ]
    },
    {
      "cell_type": "markdown",
      "metadata": {
        "id": "AGJKMVGxidua",
        "colab_type": "text"
      },
      "source": [
        "# Process Data"
      ]
    },
    {
      "cell_type": "markdown",
      "metadata": {
        "id": "ou1uv7TAjWxc",
        "colab_type": "text"
      },
      "source": [
        "## Remove columns with too many missing values"
      ]
    },
    {
      "cell_type": "code",
      "metadata": {
        "id": "_i9vA6-pib-8",
        "colab_type": "code",
        "outputId": "24515ea8-0c0b-4112-dbc1-ee8b8693724c",
        "colab": {
          "base_uri": "https://localhost:8080/",
          "height": 1000
        }
      },
      "source": [
        "missing_values = train.notnull().sum().sort_values(ascending=False)\n",
        "missing_per = ((missing_values)/len(train)) * 100\n",
        "pd.concat([missing_values, missing_per], keys=['Missing Values', 'Not Missing %'], axis=1)"
      ],
      "execution_count": 0,
      "outputs": [
        {
          "output_type": "execute_result",
          "data": {
            "text/html": [
              "<div>\n",
              "<style scoped>\n",
              "    .dataframe tbody tr th:only-of-type {\n",
              "        vertical-align: middle;\n",
              "    }\n",
              "\n",
              "    .dataframe tbody tr th {\n",
              "        vertical-align: top;\n",
              "    }\n",
              "\n",
              "    .dataframe thead th {\n",
              "        text-align: right;\n",
              "    }\n",
              "</style>\n",
              "<table border=\"1\" class=\"dataframe\">\n",
              "  <thead>\n",
              "    <tr style=\"text-align: right;\">\n",
              "      <th></th>\n",
              "      <th>Missing Values</th>\n",
              "      <th>Not Missing %</th>\n",
              "    </tr>\n",
              "  </thead>\n",
              "  <tbody>\n",
              "    <tr>\n",
              "      <th>TransactionID</th>\n",
              "      <td>590540</td>\n",
              "      <td>100.000000</td>\n",
              "    </tr>\n",
              "    <tr>\n",
              "      <th>C9</th>\n",
              "      <td>590540</td>\n",
              "      <td>100.000000</td>\n",
              "    </tr>\n",
              "    <tr>\n",
              "      <th>C1</th>\n",
              "      <td>590540</td>\n",
              "      <td>100.000000</td>\n",
              "    </tr>\n",
              "    <tr>\n",
              "      <th>C2</th>\n",
              "      <td>590540</td>\n",
              "      <td>100.000000</td>\n",
              "    </tr>\n",
              "    <tr>\n",
              "      <th>C3</th>\n",
              "      <td>590540</td>\n",
              "      <td>100.000000</td>\n",
              "    </tr>\n",
              "    <tr>\n",
              "      <th>C4</th>\n",
              "      <td>590540</td>\n",
              "      <td>100.000000</td>\n",
              "    </tr>\n",
              "    <tr>\n",
              "      <th>C5</th>\n",
              "      <td>590540</td>\n",
              "      <td>100.000000</td>\n",
              "    </tr>\n",
              "    <tr>\n",
              "      <th>C6</th>\n",
              "      <td>590540</td>\n",
              "      <td>100.000000</td>\n",
              "    </tr>\n",
              "    <tr>\n",
              "      <th>card1</th>\n",
              "      <td>590540</td>\n",
              "      <td>100.000000</td>\n",
              "    </tr>\n",
              "    <tr>\n",
              "      <th>C8</th>\n",
              "      <td>590540</td>\n",
              "      <td>100.000000</td>\n",
              "    </tr>\n",
              "    <tr>\n",
              "      <th>C7</th>\n",
              "      <td>590540</td>\n",
              "      <td>100.000000</td>\n",
              "    </tr>\n",
              "    <tr>\n",
              "      <th>ProductCD</th>\n",
              "      <td>590540</td>\n",
              "      <td>100.000000</td>\n",
              "    </tr>\n",
              "    <tr>\n",
              "      <th>C10</th>\n",
              "      <td>590540</td>\n",
              "      <td>100.000000</td>\n",
              "    </tr>\n",
              "    <tr>\n",
              "      <th>C14</th>\n",
              "      <td>590540</td>\n",
              "      <td>100.000000</td>\n",
              "    </tr>\n",
              "    <tr>\n",
              "      <th>C13</th>\n",
              "      <td>590540</td>\n",
              "      <td>100.000000</td>\n",
              "    </tr>\n",
              "    <tr>\n",
              "      <th>C12</th>\n",
              "      <td>590540</td>\n",
              "      <td>100.000000</td>\n",
              "    </tr>\n",
              "    <tr>\n",
              "      <th>C11</th>\n",
              "      <td>590540</td>\n",
              "      <td>100.000000</td>\n",
              "    </tr>\n",
              "    <tr>\n",
              "      <th>isFraud</th>\n",
              "      <td>590540</td>\n",
              "      <td>100.000000</td>\n",
              "    </tr>\n",
              "    <tr>\n",
              "      <th>TransactionDT</th>\n",
              "      <td>590540</td>\n",
              "      <td>100.000000</td>\n",
              "    </tr>\n",
              "    <tr>\n",
              "      <th>TransactionAmt</th>\n",
              "      <td>590540</td>\n",
              "      <td>100.000000</td>\n",
              "    </tr>\n",
              "    <tr>\n",
              "      <th>V319</th>\n",
              "      <td>590528</td>\n",
              "      <td>99.997968</td>\n",
              "    </tr>\n",
              "    <tr>\n",
              "      <th>V318</th>\n",
              "      <td>590528</td>\n",
              "      <td>99.997968</td>\n",
              "    </tr>\n",
              "    <tr>\n",
              "      <th>V317</th>\n",
              "      <td>590528</td>\n",
              "      <td>99.997968</td>\n",
              "    </tr>\n",
              "    <tr>\n",
              "      <th>V316</th>\n",
              "      <td>590528</td>\n",
              "      <td>99.997968</td>\n",
              "    </tr>\n",
              "    <tr>\n",
              "      <th>V308</th>\n",
              "      <td>590528</td>\n",
              "      <td>99.997968</td>\n",
              "    </tr>\n",
              "    <tr>\n",
              "      <th>V312</th>\n",
              "      <td>590528</td>\n",
              "      <td>99.997968</td>\n",
              "    </tr>\n",
              "    <tr>\n",
              "      <th>V310</th>\n",
              "      <td>590528</td>\n",
              "      <td>99.997968</td>\n",
              "    </tr>\n",
              "    <tr>\n",
              "      <th>V309</th>\n",
              "      <td>590528</td>\n",
              "      <td>99.997968</td>\n",
              "    </tr>\n",
              "    <tr>\n",
              "      <th>V305</th>\n",
              "      <td>590528</td>\n",
              "      <td>99.997968</td>\n",
              "    </tr>\n",
              "    <tr>\n",
              "      <th>V307</th>\n",
              "      <td>590528</td>\n",
              "      <td>99.997968</td>\n",
              "    </tr>\n",
              "    <tr>\n",
              "      <th>...</th>\n",
              "      <td>...</td>\n",
              "      <td>...</td>\n",
              "    </tr>\n",
              "    <tr>\n",
              "      <th>V161</th>\n",
              "      <td>81945</td>\n",
              "      <td>13.876283</td>\n",
              "    </tr>\n",
              "    <tr>\n",
              "      <th>V163</th>\n",
              "      <td>81945</td>\n",
              "      <td>13.876283</td>\n",
              "    </tr>\n",
              "    <tr>\n",
              "      <th>V142</th>\n",
              "      <td>81945</td>\n",
              "      <td>13.876283</td>\n",
              "    </tr>\n",
              "    <tr>\n",
              "      <th>id_14</th>\n",
              "      <td>80044</td>\n",
              "      <td>13.554374</td>\n",
              "    </tr>\n",
              "    <tr>\n",
              "      <th>id_34</th>\n",
              "      <td>77805</td>\n",
              "      <td>13.175229</td>\n",
              "    </tr>\n",
              "    <tr>\n",
              "      <th>id_32</th>\n",
              "      <td>77586</td>\n",
              "      <td>13.138145</td>\n",
              "    </tr>\n",
              "    <tr>\n",
              "      <th>id_30</th>\n",
              "      <td>77565</td>\n",
              "      <td>13.134589</td>\n",
              "    </tr>\n",
              "    <tr>\n",
              "      <th>id_10</th>\n",
              "      <td>74926</td>\n",
              "      <td>12.687710</td>\n",
              "    </tr>\n",
              "    <tr>\n",
              "      <th>id_09</th>\n",
              "      <td>74926</td>\n",
              "      <td>12.687710</td>\n",
              "    </tr>\n",
              "    <tr>\n",
              "      <th>D8</th>\n",
              "      <td>74926</td>\n",
              "      <td>12.687710</td>\n",
              "    </tr>\n",
              "    <tr>\n",
              "      <th>D9</th>\n",
              "      <td>74926</td>\n",
              "      <td>12.687710</td>\n",
              "    </tr>\n",
              "    <tr>\n",
              "      <th>id_33</th>\n",
              "      <td>73289</td>\n",
              "      <td>12.410506</td>\n",
              "    </tr>\n",
              "    <tr>\n",
              "      <th>D6</th>\n",
              "      <td>73187</td>\n",
              "      <td>12.393233</td>\n",
              "    </tr>\n",
              "    <tr>\n",
              "      <th>id_03</th>\n",
              "      <td>66324</td>\n",
              "      <td>11.231077</td>\n",
              "    </tr>\n",
              "    <tr>\n",
              "      <th>id_04</th>\n",
              "      <td>66324</td>\n",
              "      <td>11.231077</td>\n",
              "    </tr>\n",
              "    <tr>\n",
              "      <th>D12</th>\n",
              "      <td>64717</td>\n",
              "      <td>10.958953</td>\n",
              "    </tr>\n",
              "    <tr>\n",
              "      <th>D14</th>\n",
              "      <td>62187</td>\n",
              "      <td>10.530531</td>\n",
              "    </tr>\n",
              "    <tr>\n",
              "      <th>D13</th>\n",
              "      <td>61952</td>\n",
              "      <td>10.490737</td>\n",
              "    </tr>\n",
              "    <tr>\n",
              "      <th>id_18</th>\n",
              "      <td>45113</td>\n",
              "      <td>7.639279</td>\n",
              "    </tr>\n",
              "    <tr>\n",
              "      <th>D7</th>\n",
              "      <td>38917</td>\n",
              "      <td>6.590070</td>\n",
              "    </tr>\n",
              "    <tr>\n",
              "      <th>dist2</th>\n",
              "      <td>37627</td>\n",
              "      <td>6.371626</td>\n",
              "    </tr>\n",
              "    <tr>\n",
              "      <th>id_22</th>\n",
              "      <td>5169</td>\n",
              "      <td>0.875301</td>\n",
              "    </tr>\n",
              "    <tr>\n",
              "      <th>id_23</th>\n",
              "      <td>5169</td>\n",
              "      <td>0.875301</td>\n",
              "    </tr>\n",
              "    <tr>\n",
              "      <th>id_27</th>\n",
              "      <td>5169</td>\n",
              "      <td>0.875301</td>\n",
              "    </tr>\n",
              "    <tr>\n",
              "      <th>id_26</th>\n",
              "      <td>5163</td>\n",
              "      <td>0.874285</td>\n",
              "    </tr>\n",
              "    <tr>\n",
              "      <th>id_21</th>\n",
              "      <td>5159</td>\n",
              "      <td>0.873607</td>\n",
              "    </tr>\n",
              "    <tr>\n",
              "      <th>id_08</th>\n",
              "      <td>5155</td>\n",
              "      <td>0.872930</td>\n",
              "    </tr>\n",
              "    <tr>\n",
              "      <th>id_07</th>\n",
              "      <td>5155</td>\n",
              "      <td>0.872930</td>\n",
              "    </tr>\n",
              "    <tr>\n",
              "      <th>id_25</th>\n",
              "      <td>5132</td>\n",
              "      <td>0.869035</td>\n",
              "    </tr>\n",
              "    <tr>\n",
              "      <th>id_24</th>\n",
              "      <td>4747</td>\n",
              "      <td>0.803841</td>\n",
              "    </tr>\n",
              "  </tbody>\n",
              "</table>\n",
              "<p>434 rows × 2 columns</p>\n",
              "</div>"
            ],
            "text/plain": [
              "                Missing Values  Not Missing %\n",
              "TransactionID           590540     100.000000\n",
              "C9                      590540     100.000000\n",
              "C1                      590540     100.000000\n",
              "C2                      590540     100.000000\n",
              "C3                      590540     100.000000\n",
              "C4                      590540     100.000000\n",
              "C5                      590540     100.000000\n",
              "C6                      590540     100.000000\n",
              "card1                   590540     100.000000\n",
              "C8                      590540     100.000000\n",
              "C7                      590540     100.000000\n",
              "ProductCD               590540     100.000000\n",
              "C10                     590540     100.000000\n",
              "C14                     590540     100.000000\n",
              "C13                     590540     100.000000\n",
              "C12                     590540     100.000000\n",
              "C11                     590540     100.000000\n",
              "isFraud                 590540     100.000000\n",
              "TransactionDT           590540     100.000000\n",
              "TransactionAmt          590540     100.000000\n",
              "V319                    590528      99.997968\n",
              "V318                    590528      99.997968\n",
              "V317                    590528      99.997968\n",
              "V316                    590528      99.997968\n",
              "V308                    590528      99.997968\n",
              "V312                    590528      99.997968\n",
              "V310                    590528      99.997968\n",
              "V309                    590528      99.997968\n",
              "V305                    590528      99.997968\n",
              "V307                    590528      99.997968\n",
              "...                        ...            ...\n",
              "V161                     81945      13.876283\n",
              "V163                     81945      13.876283\n",
              "V142                     81945      13.876283\n",
              "id_14                    80044      13.554374\n",
              "id_34                    77805      13.175229\n",
              "id_32                    77586      13.138145\n",
              "id_30                    77565      13.134589\n",
              "id_10                    74926      12.687710\n",
              "id_09                    74926      12.687710\n",
              "D8                       74926      12.687710\n",
              "D9                       74926      12.687710\n",
              "id_33                    73289      12.410506\n",
              "D6                       73187      12.393233\n",
              "id_03                    66324      11.231077\n",
              "id_04                    66324      11.231077\n",
              "D12                      64717      10.958953\n",
              "D14                      62187      10.530531\n",
              "D13                      61952      10.490737\n",
              "id_18                    45113       7.639279\n",
              "D7                       38917       6.590070\n",
              "dist2                    37627       6.371626\n",
              "id_22                     5169       0.875301\n",
              "id_23                     5169       0.875301\n",
              "id_27                     5169       0.875301\n",
              "id_26                     5163       0.874285\n",
              "id_21                     5159       0.873607\n",
              "id_08                     5155       0.872930\n",
              "id_07                     5155       0.872930\n",
              "id_25                     5132       0.869035\n",
              "id_24                     4747       0.803841\n",
              "\n",
              "[434 rows x 2 columns]"
            ]
          },
          "metadata": {
            "tags": []
          },
          "execution_count": 10
        }
      ]
    },
    {
      "cell_type": "code",
      "metadata": {
        "colab_type": "code",
        "id": "esOVb288s8ba",
        "colab": {}
      },
      "source": [
        "def delete_too_much_missing_data(data):\n",
        "    too_much_null_cols = [col for col in data.columns if data[col].isnull().sum()/data.shape[0]>0.8]\n",
        "    return too_much_null_cols"
      ],
      "execution_count": 0,
      "outputs": []
    },
    {
      "cell_type": "code",
      "metadata": {
        "colab_type": "code",
        "id": "2E707neHs71x",
        "colab": {}
      },
      "source": [
        "# delete columns in train and test that have too much missing data in test\n",
        "new_train = train.drop(delete_too_much_missing_data(train), axis = 1)\n",
        "new_test = test.drop(delete_too_much_missing_data(train), axis = 1)"
      ],
      "execution_count": 0,
      "outputs": []
    },
    {
      "cell_type": "code",
      "metadata": {
        "id": "wjMXiIyPk29S",
        "colab_type": "code",
        "outputId": "e71d0f6e-038f-4301-f6ad-a3aafde89aa4",
        "colab": {
          "base_uri": "https://localhost:8080/",
          "height": 51
        }
      },
      "source": [
        "# shape\n",
        "print(new_train.shape)\n",
        "print(new_test.shape)"
      ],
      "execution_count": 0,
      "outputs": [
        {
          "output_type": "stream",
          "text": [
            "(590540, 360)\n",
            "(506691, 359)\n"
          ],
          "name": "stdout"
        }
      ]
    },
    {
      "cell_type": "markdown",
      "metadata": {
        "colab_type": "text",
        "id": "BRCYT_MRs6wO"
      },
      "source": [
        "## Encode categorical features"
      ]
    },
    {
      "cell_type": "code",
      "metadata": {
        "colab_type": "code",
        "id": "uxjfh38xtm8_",
        "colab": {}
      },
      "source": [
        "def find_categorical(dataframe):\n",
        "  # Categorical boolean mask\n",
        "  categorical_feature_mask = dataframe.dtypes==\"category\"\n",
        "  # filter categorical columns using mask and turn it into a list\n",
        "  categorical_cols = dataframe.columns[categorical_feature_mask].tolist()\n",
        "  return categorical_cols"
      ],
      "execution_count": 0,
      "outputs": []
    },
    {
      "cell_type": "code",
      "metadata": {
        "colab_type": "code",
        "id": "RHNYyYTgtjsI",
        "colab": {}
      },
      "source": [
        "categorical = find_categorical(new_train)"
      ],
      "execution_count": 0,
      "outputs": []
    },
    {
      "cell_type": "code",
      "metadata": {
        "colab_type": "code",
        "id": "iyW270-Qs65N",
        "colab": {}
      },
      "source": [
        "# def get_dummies(dataframe):\n",
        "  # Get dummies\n",
        "  X = pd.get_dummies(dataframe, prefix_sep='_', drop_first=True)\n",
        "  return X"
      ],
      "execution_count": 0,
      "outputs": []
    },
    {
      "cell_type": "code",
      "metadata": {
        "colab_type": "code",
        "id": "69_Sm1h2s5x0",
        "colab": {}
      },
      "source": [
        "# # replace data by encoded data\n",
        "new_train = get_dummies(new_train)\n",
        "new_test = get_dummies(new_test)"
      ],
      "execution_count": 0,
      "outputs": []
    },
    {
      "cell_type": "code",
      "metadata": {
        "colab_type": "code",
        "outputId": "4f4e663f-514a-4b34-df3e-6f0719e845c5",
        "id": "uOixrUUjs5ot",
        "colab": {
          "base_uri": "https://localhost:8080/",
          "height": 289
        }
      },
      "source": [
        "# head\n",
        "print(new_train.head())\n",
        "print(new_test.head())"
      ],
      "execution_count": 0,
      "outputs": [
        {
          "output_type": "stream",
          "text": [
            "   TransactionID  isFraud  ...  DeviceType                     DeviceInfo\n",
            "0        2987000        0  ...         NaN                            NaN\n",
            "1        2987001        0  ...         NaN                            NaN\n",
            "2        2987002        0  ...         NaN                            NaN\n",
            "3        2987003        0  ...         NaN                            NaN\n",
            "4        2987004        0  ...      mobile  SAMSUNG SM-G892A Build/NRD90M\n",
            "\n",
            "[5 rows x 360 columns]\n",
            "   TransactionID  TransactionDT  TransactionAmt  ... id_38  DeviceType  DeviceInfo\n",
            "0        3663549       18403224       31.953125  ...   NaN         NaN         NaN\n",
            "1        3663550       18403263       49.000000  ...   NaN         NaN         NaN\n",
            "2        3663551       18403310      171.000000  ...   NaN         NaN         NaN\n",
            "3        3663552       18403310      285.000000  ...   NaN         NaN         NaN\n",
            "4        3663553       18403317       67.937500  ...   NaN         NaN         NaN\n",
            "\n",
            "[5 rows x 359 columns]\n"
          ],
          "name": "stdout"
        }
      ]
    },
    {
      "cell_type": "code",
      "metadata": {
        "colab_type": "code",
        "id": "typY8mhHs5gH",
        "colab": {}
      },
      "source": [
        "# drop categorical values\n",
        "new_train = new_train.drop(find_categorical(new_train), axis = 1)\n",
        "new_test = new_test.drop(find_categorical(new_test), axis = 1)"
      ],
      "execution_count": 0,
      "outputs": []
    },
    {
      "cell_type": "code",
      "metadata": {
        "colab_type": "code",
        "outputId": "c89d8817-a2ea-4fea-9267-ef636f23832f",
        "id": "g7ANeh1Ks5Wz",
        "colab": {
          "base_uri": "https://localhost:8080/",
          "height": 289
        }
      },
      "source": [
        "# head\n",
        "print(new_train.head())\n",
        "print(new_test.head())"
      ],
      "execution_count": 0,
      "outputs": [
        {
          "output_type": "stream",
          "text": [
            "   TransactionID  isFraud  TransactionDT  ...  id_17  id_19  id_20\n",
            "0        2987000        0          86400  ...    NaN    NaN    NaN\n",
            "1        2987001        0          86401  ...    NaN    NaN    NaN\n",
            "2        2987002        0          86469  ...    NaN    NaN    NaN\n",
            "3        2987003        0          86499  ...    NaN    NaN    NaN\n",
            "4        2987004        0          86506  ...  166.0  542.0  144.0\n",
            "\n",
            "[5 rows x 334 columns]\n",
            "   TransactionID  TransactionDT  TransactionAmt  ...  id_17  id_19  id_20\n",
            "0        3663549       18403224       31.953125  ...    NaN    NaN    NaN\n",
            "1        3663550       18403263       49.000000  ...    NaN    NaN    NaN\n",
            "2        3663551       18403310      171.000000  ...    NaN    NaN    NaN\n",
            "3        3663552       18403310      285.000000  ...    NaN    NaN    NaN\n",
            "4        3663553       18403317       67.937500  ...    NaN    NaN    NaN\n",
            "\n",
            "[5 rows x 333 columns]\n"
          ],
          "name": "stdout"
        }
      ]
    },
    {
      "cell_type": "markdown",
      "metadata": {
        "colab_type": "text",
        "id": "8RH-24ths5N-"
      },
      "source": [
        "## Replace numerical missing values"
      ]
    },
    {
      "cell_type": "code",
      "metadata": {
        "id": "Re7a0V9wlEkX",
        "colab_type": "code",
        "colab": {}
      },
      "source": [
        "# replace na values\n",
        "new_train = new_train.fillna(-9999)\n",
        "new_test = new_test.fillna(-9999)"
      ],
      "execution_count": 0,
      "outputs": []
    },
    {
      "cell_type": "markdown",
      "metadata": {
        "id": "Xtmmvp7GlTpd",
        "colab_type": "text"
      },
      "source": [
        "# Build Logistic Regression Model"
      ]
    },
    {
      "cell_type": "code",
      "metadata": {
        "id": "DizFlu7MlYEQ",
        "colab_type": "code",
        "colab": {}
      },
      "source": [
        "X_train = new_train.drop(\"isFraud\", axis = 1)\n",
        "y_train = new_train[\"isFraud\"]"
      ],
      "execution_count": 0,
      "outputs": []
    },
    {
      "cell_type": "code",
      "metadata": {
        "id": "BA0vBFJwliui",
        "colab_type": "code",
        "colab": {}
      },
      "source": [
        "# Split the data into a training set and a validation set\n",
        "X_train, X_val, y_train, y_val = train_test_split(X_train, y_train, test_size=0.2)"
      ],
      "execution_count": 0,
      "outputs": []
    },
    {
      "cell_type": "code",
      "metadata": {
        "id": "qId_4DVYltV-",
        "colab_type": "code",
        "outputId": "7dfeb289-2a50-45a8-e870-304775875231",
        "colab": {
          "base_uri": "https://localhost:8080/",
          "height": 68
        }
      },
      "source": [
        "# create model\n",
        "model = LogisticRegression(verbose=1,solver='sag').fit(X_train, y_train)"
      ],
      "execution_count": 0,
      "outputs": [
        {
          "output_type": "stream",
          "text": [
            "[Parallel(n_jobs=1)]: Using backend SequentialBackend with 1 concurrent workers.\n"
          ],
          "name": "stderr"
        },
        {
          "output_type": "stream",
          "text": [
            "max_iter reached after 141 seconds\n"
          ],
          "name": "stdout"
        },
        {
          "output_type": "stream",
          "text": [
            "[Parallel(n_jobs=1)]: Done   1 out of   1 | elapsed:  2.4min finished\n"
          ],
          "name": "stderr"
        }
      ]
    },
    {
      "cell_type": "code",
      "metadata": {
        "id": "vnt4J3K4lypA",
        "colab_type": "code",
        "colab": {}
      },
      "source": [
        "# predict\n",
        "y_pred = model.predict(X_val)\n",
        "accuracy = accuracy_score(y_val, y_pred)\n",
        "parameters = model.coef_"
      ],
      "execution_count": 0,
      "outputs": []
    },
    {
      "cell_type": "markdown",
      "metadata": {
        "id": "PRjG9KC6mFoC",
        "colab_type": "text"
      },
      "source": [
        "# Visualize Predictions"
      ]
    },
    {
      "cell_type": "markdown",
      "metadata": {
        "id": "CSuvvhJHmQJP",
        "colab_type": "text"
      },
      "source": [
        "## Plot confusion matrix"
      ]
    },
    {
      "cell_type": "code",
      "metadata": {
        "id": "VFiAIx4HmHdD",
        "colab_type": "code",
        "colab": {}
      },
      "source": [
        "def plot_confusion_matrix(y_true, y_pred, classes,\n",
        "                          normalize=False,\n",
        "                          title=None,\n",
        "                          cmap=plt.cm.Blues):\n",
        "    \"\"\"\n",
        "    This function prints and plots the confusion matrix.\n",
        "    Normalization can be applied by setting `normalize=True`.\n",
        "    \"\"\"\n",
        "    if not title:\n",
        "        if normalize:\n",
        "            title = 'Normalized confusion matrix'\n",
        "        else:\n",
        "            title = 'Confusion matrix, without normalization'\n",
        "\n",
        "    # Compute confusion matrix\n",
        "    cm = confusion_matrix(y_true, y_pred)\n",
        "    # Only use the labels that appear in the data\n",
        "    if normalize:\n",
        "        cm = cm.astype('float') / cm.sum(axis=1)[:, np.newaxis]\n",
        "        print(\"Normalized confusion matrix\")\n",
        "    else:\n",
        "        print('Confusion matrix, without normalization')\n",
        "\n",
        "    print(cm)\n",
        "\n",
        "    fig, ax = plt.subplots()\n",
        "    im = ax.imshow(cm, interpolation='nearest', cmap=cmap)\n",
        "    ax.figure.colorbar(im, ax=ax)\n",
        "    # We want to show all ticks...\n",
        "    ax.set(xticks=np.arange(cm.shape[1]),\n",
        "           yticks=np.arange(cm.shape[0]),\n",
        "           # ... and label them with the respective list entries\n",
        "           xticklabels=classes, yticklabels=classes,\n",
        "           title=title,\n",
        "           ylabel='True label',\n",
        "           xlabel='Predicted label')\n",
        "\n",
        "    # Rotate the tick labels and set their alignment.\n",
        "    plt.setp(ax.get_xticklabels(), rotation=45, ha=\"right\",\n",
        "             rotation_mode=\"anchor\")\n",
        "\n",
        "    # Loop over data dimensions and create text annotations.\n",
        "    fmt = '.2f' if normalize else 'd'\n",
        "    thresh = cm.max() / 2.\n",
        "    for i in range(cm.shape[0]):\n",
        "        for j in range(cm.shape[1]):\n",
        "            ax.text(j, i, format(cm[i, j], fmt),\n",
        "                    ha=\"center\", va=\"center\",\n",
        "                    color=\"white\" if cm[i, j] > thresh else \"black\")\n",
        "    fig.tight_layout()\n",
        "    return ax"
      ],
      "execution_count": 0,
      "outputs": []
    },
    {
      "cell_type": "code",
      "metadata": {
        "id": "du_qGJXsmV2T",
        "colab_type": "code",
        "outputId": "63f2e272-9c0d-4e14-d235-b5082ed1a98b",
        "colab": {
          "base_uri": "https://localhost:8080/",
          "height": 679
        }
      },
      "source": [
        "np.set_printoptions(precision=2)\n",
        "\n",
        "# Defined predictions classes\n",
        "class_names = [\"Non Fraud\", \"Fraud\"]\n",
        "\n",
        "# Plot non-normalized confusion matrix\n",
        "plot_confusion_matrix(y_val, y_pred, classes=class_names,\n",
        "                      title='Confusion matrix, without normalization')\n",
        "\n",
        "# Plot normalized confusion matrix\n",
        "plot_confusion_matrix(y_val, y_pred, classes=class_names, normalize=True,\n",
        "                      title='Normalized confusion matrix')\n",
        "\n",
        "plt.show()"
      ],
      "execution_count": 0,
      "outputs": [
        {
          "output_type": "stream",
          "text": [
            "Confusion matrix, without normalization\n",
            "[[113911      0]\n",
            " [  4197      0]]\n",
            "Normalized confusion matrix\n",
            "[[1. 0.]\n",
            " [1. 0.]]\n"
          ],
          "name": "stdout"
        },
        {
          "output_type": "display_data",
          "data": {
            "image/png": "[encoded data removed]",
            "text/plain": [
              "<Figure size 432x288 with 2 Axes>"
            ]
          },
          "metadata": {
            "tags": []
          }
        },
        {
          "output_type": "display_data",
          "data": {
            "image/png": "[encoded data removed]",
            "text/plain": [
              "<Figure size 432x288 with 2 Axes>"
            ]
          },
          "metadata": {
            "tags": []
          }
        }
      ]
    }
  ]
}